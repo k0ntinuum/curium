{
 "cells": [
  {
   "cell_type": "code",
   "execution_count": 48,
   "id": "5b36d18f",
   "metadata": {},
   "outputs": [],
   "source": [
    "alph = \"_ABCDEFGHIJKLMNOPQRSTUVWXYZ\"\n",
    "findfirst(alph,\"D\")\n",
    "    \n",
    "    "
   ]
  },
  {
   "cell_type": "code",
   "execution_count": 8,
   "id": "86f858f7",
   "metadata": {},
   "outputs": [
    {
     "name": "stdout",
     "output_type": "stream",
     "text": [
      "5"
     ]
    }
   ],
   "source": [
    "print(findfirst(x -> x == 'D' , alph))"
   ]
  },
  {
   "cell_type": "code",
   "execution_count": 9,
   "id": "f0f3d37c",
   "metadata": {},
   "outputs": [
    {
     "ename": "LoadError",
     "evalue": "syntax: incomplete: \"for\" at In[9]:2 requires end",
     "output_type": "error",
     "traceback": [
      "syntax: incomplete: \"for\" at In[9]:2 requires end",
      "",
      "Stacktrace:",
      " [1] top-level scope",
      "   @ In[9]:1"
     ]
    }
   ],
   "source": [
    "function vecfromstring(s)\n",
    "    for i in eachindex(s)\n",
    "        n = findfirst(x -> x == s[i] , alph)\n",
    "        "
   ]
  },
  {
   "cell_type": "code",
   "execution_count": 103,
   "id": "a14dabee",
   "metadata": {},
   "outputs": [
    {
     "data": {
      "text/plain": [
       "_translate (generic function with 1 method)"
      ]
     },
     "execution_count": 103,
     "metadata": {},
     "output_type": "execute_result"
    }
   ],
   "source": [
    "function _translate(s)\n",
    "    n = findfirst(x -> x == s , alph) - 1\n",
    "    if  n < 3\n",
    "        n = \"00\" * string(n,base = 3)\n",
    "    elseif n < 9\n",
    "        n = \"0\" * string(n,base = 3)\n",
    "    else\n",
    "        n =  string(n,base = 3)\n",
    "    end\n",
    "    n\n",
    "end\n",
    "    "
   ]
  },
  {
   "cell_type": "code",
   "execution_count": 68,
   "id": "681c2d2b",
   "metadata": {},
   "outputs": [
    {
     "data": {
      "text/plain": [
       "translate (generic function with 1 method)"
      ]
     },
     "execution_count": 68,
     "metadata": {},
     "output_type": "execute_result"
    }
   ],
   "source": [
    "function translate(s)\n",
    "    y = \"\"\n",
    "    for i in eachindex(s)\n",
    "        y *= _translate(s[i])\n",
    "    end\n",
    "    y\n",
    "end"
   ]
  },
  {
   "cell_type": "code",
   "execution_count": 52,
   "id": "c681b48c",
   "metadata": {},
   "outputs": [
    {
     "data": {
      "text/plain": [
       "\"022012110110120\""
      ]
     },
     "execution_count": 52,
     "metadata": {},
     "output_type": "execute_result"
    }
   ],
   "source": [
    "translate(\"HELLO\")"
   ]
  },
  {
   "cell_type": "code",
   "execution_count": 69,
   "id": "b8b06e69",
   "metadata": {},
   "outputs": [
    {
     "data": {
      "text/plain": [
       "vecfromstring (generic function with 1 method)"
      ]
     },
     "execution_count": 69,
     "metadata": {},
     "output_type": "execute_result"
    }
   ],
   "source": [
    "function vecfromstring(s)\n",
    "    v = zeros(Int64, length(s))\n",
    "    for i in eachindex(s)\n",
    "        v[i] = parse(Int64, s[i:i])\n",
    "    end\n",
    "    v\n",
    "end\n",
    "        "
   ]
  },
  {
   "cell_type": "code",
   "execution_count": 70,
   "id": "84ec495d",
   "metadata": {},
   "outputs": [
    {
     "data": {
      "text/plain": [
       "5-element Vector{Int64}:\n",
       " 0\n",
       " 1\n",
       " 3\n",
       " 0\n",
       " 1"
      ]
     },
     "execution_count": 70,
     "metadata": {},
     "output_type": "execute_result"
    }
   ],
   "source": [
    "vecfromstring(\"01301\")"
   ]
  },
  {
   "cell_type": "code",
   "execution_count": 71,
   "id": "bae5f0b5",
   "metadata": {},
   "outputs": [
    {
     "data": {
      "text/plain": [
       "vec_from (generic function with 1 method)"
      ]
     },
     "execution_count": 71,
     "metadata": {},
     "output_type": "execute_result"
    }
   ],
   "source": [
    "function vec_from(x) vecfromstring(translate(x)) end\n",
    "    "
   ]
  },
  {
   "cell_type": "code",
   "execution_count": 72,
   "id": "843834f9",
   "metadata": {},
   "outputs": [
    {
     "data": {
      "text/plain": [
       "15-element Vector{Int64}:\n",
       " 0\n",
       " 2\n",
       " 2\n",
       " 0\n",
       " 1\n",
       " 2\n",
       " 1\n",
       " 1\n",
       " 0\n",
       " 1\n",
       " 1\n",
       " 0\n",
       " 1\n",
       " 2\n",
       " 0"
      ]
     },
     "execution_count": 72,
     "metadata": {},
     "output_type": "execute_result"
    }
   ],
   "source": [
    "vec_from(\"HELLO\")"
   ]
  },
  {
   "cell_type": "code",
   "execution_count": 66,
   "id": "8fbe4eb2",
   "metadata": {},
   "outputs": [
    {
     "data": {
      "text/plain": [
       "3-element Vector{Int64}:\n",
       " 0\n",
       " 2\n",
       " 2"
      ]
     },
     "execution_count": 66,
     "metadata": {},
     "output_type": "execute_result"
    }
   ],
   "source": [
    "vec_from(\"H\")"
   ]
  },
  {
   "cell_type": "code",
   "execution_count": 91,
   "id": "9dd307bc",
   "metadata": {},
   "outputs": [
    {
     "data": {
      "text/plain": [
       "transform (generic function with 1 method)"
      ]
     },
     "execution_count": 91,
     "metadata": {},
     "output_type": "execute_result"
    }
   ],
   "source": [
    "function transform(v)\n",
    "    s = \"\"\n",
    "    for i in range(1,length(v), step = 3)\n",
    "        n = 9*v[i] + 3*v[i+1] + v[i+2]\n",
    "        s *= alph[n+1]\n",
    "    end\n",
    "    s\n",
    "end"
   ]
  },
  {
   "cell_type": "code",
   "execution_count": 94,
   "id": "68dc7dea",
   "metadata": {},
   "outputs": [
    {
     "data": {
      "text/plain": [
       "6-element Vector{Int64}:\n",
       " 0\n",
       " 0\n",
       " 0\n",
       " 0\n",
       " 0\n",
       " 0"
      ]
     },
     "execution_count": 94,
     "metadata": {},
     "output_type": "execute_result"
    }
   ],
   "source": [
    "v = [0,0,0,0,0,0]"
   ]
  },
  {
   "cell_type": "code",
   "execution_count": 95,
   "id": "18f3bd83",
   "metadata": {},
   "outputs": [
    {
     "data": {
      "text/plain": [
       "\"__\""
      ]
     },
     "execution_count": 95,
     "metadata": {},
     "output_type": "execute_result"
    }
   ],
   "source": [
    "transform(v)"
   ]
  },
  {
   "cell_type": "code",
   "execution_count": 96,
   "id": "c2c81603",
   "metadata": {},
   "outputs": [
    {
     "data": {
      "text/plain": [
       "137-element Vector{Int64}:\n",
       " 2\n",
       " 0\n",
       " 2\n",
       " 0\n",
       " 2\n",
       " 2\n",
       " 1\n",
       " 0\n",
       " 0\n",
       " 2\n",
       " 0\n",
       " 1\n",
       " 0\n",
       " ⋮\n",
       " 2\n",
       " 0\n",
       " 1\n",
       " 2\n",
       " 0\n",
       " 2\n",
       " 0\n",
       " 1\n",
       " 2\n",
       " 1\n",
       " 1\n",
       " 1"
      ]
     },
     "execution_count": 96,
     "metadata": {},
     "output_type": "execute_result"
    }
   ],
   "source": [
    "    alph = \"_ABCDEFGHIJKLMNOPQRSTUVWXYZ\"\n",
    "    p = vec_from(\"THIS_IS_A_TEST_OF_THE_TERNARY_CURIUM_CRYPTOSYSTEM\")"
   ]
  },
  {
   "cell_type": "code",
   "execution_count": 97,
   "id": "e2b2f4cc",
   "metadata": {},
   "outputs": [
    {
     "ename": "LoadError",
     "evalue": "LoadError: UndefVarError: `@sprintf` not defined\nin expression starting at In[97]:1",
     "output_type": "error",
     "traceback": [
      "LoadError: UndefVarError: `@sprintf` not defined\nin expression starting at In[97]:1",
      ""
     ]
    }
   ],
   "source": [
    "@sprintf"
   ]
  },
  {
   "cell_type": "code",
   "execution_count": 101,
   "id": "91b422a7",
   "metadata": {},
   "outputs": [
    {
     "ename": "LoadError",
     "evalue": "LoadError: MethodError: no method matching var\"@sprintf\"(::LineNumberNode, ::Module)\n\n\u001b[0mClosest candidates are:\n\u001b[0m  var\"@sprintf\"(::LineNumberNode, ::Module, \u001b[91m::Any\u001b[39m, \u001b[91m::Any...\u001b[39m)\n\u001b[0m\u001b[90m   @\u001b[39m \u001b[36mPrintf\u001b[39m \u001b[90m/Applications/Julia-1.9.app/Contents/Resources/julia/share/julia/stdlib/v1.9/Printf/src/\u001b[39m\u001b[90m\u001b[4mPrintf.jl:960\u001b[24m\u001b[39m\n\nin expression starting at In[101]:2",
     "output_type": "error",
     "traceback": [
      "LoadError: MethodError: no method matching var\"@sprintf\"(::LineNumberNode, ::Module)\n\n\u001b[0mClosest candidates are:\n\u001b[0m  var\"@sprintf\"(::LineNumberNode, ::Module, \u001b[91m::Any\u001b[39m, \u001b[91m::Any...\u001b[39m)\n\u001b[0m\u001b[90m   @\u001b[39m \u001b[36mPrintf\u001b[39m \u001b[90m/Applications/Julia-1.9.app/Contents/Resources/julia/share/julia/stdlib/v1.9/Printf/src/\u001b[39m\u001b[90m\u001b[4mPrintf.jl:960\u001b[24m\u001b[39m\n\nin expression starting at In[101]:2",
      ""
     ]
    }
   ],
   "source": [
    "using Printf\n",
    "@sprintf"
   ]
  },
  {
   "cell_type": "code",
   "execution_count": null,
   "id": "28c81cb6",
   "metadata": {},
   "outputs": [],
   "source": []
  }
 ],
 "metadata": {
  "kernelspec": {
   "display_name": "Julia 1.9.3",
   "language": "julia",
   "name": "julia-1.9"
  },
  "language_info": {
   "file_extension": ".jl",
   "mimetype": "application/julia",
   "name": "julia",
   "version": "1.9.3"
  }
 },
 "nbformat": 4,
 "nbformat_minor": 5
}
